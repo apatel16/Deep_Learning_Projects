{
    "nbformat_minor": 1, 
    "cells": [
        {
            "execution_count": 2, 
            "cell_type": "code", 
            "metadata": {}, 
            "outputs": [], 
            "source": "import numpy as np\nimport pandas as pd\nimport scipy.io as sio\nimport os"
        }, 
        {
            "execution_count": null, 
            "cell_type": "code", 
            "metadata": {}, 
            "outputs": [], 
            "source": "!wget http://csegroups.case.edu/sites/default/files/bearingdatacenter/files/Datafiles/97.mat\n!wget http://csegroups.case.edu/sites/default/files/bearingdatacenter/files/Datafiles/98.mat \n!wget http://csegroups.case.edu/sites/default/files/bearingdatacenter/files/Datafiles/99.mat \n!wget http://csegroups.case.edu/sites/default/files/bearingdatacenter/files/Datafiles/100.mat "
        }, 
        {
            "execution_count": null, 
            "cell_type": "code", 
            "metadata": {}, 
            "outputs": [], 
            "source": "!mkdir cwr_healthy"
        }, 
        {
            "execution_count": null, 
            "cell_type": "code", 
            "metadata": {}, 
            "outputs": [], 
            "source": "!mv *.mat cwr_healthy/"
        }, 
        {
            "execution_count": null, 
            "cell_type": "code", 
            "metadata": {}, 
            "outputs": [], 
            "source": "!ls -lahr cwr_healthy/"
        }, 
        {
            "execution_count": 3, 
            "cell_type": "code", 
            "metadata": {}, 
            "outputs": [], 
            "source": "def readFolder(folder):\n    data = 'dummy'\n    skip = False\n    for file in os.listdir(folder):                # ['100.mat', '97.mat', '98.mat', '99.mat']\n        file_id = file[:-4]                        # iter_1 : 100, iter_2 : 97\n        mat_file_dict = sio.loadmat(folder + file) # dict{ X100: ...}\n        del data                                   # This is arrangement to delete 'data' variable from kernel so that if cell executed \n                                                   # more than once then appropriate results should be contained in 'data' variable\n        for key, values in mat_file_dict.items():\n            if 'DE_time' in key or 'FE_time' in key:\n                a = np.array(mat_file_dict[key])   # array([[ 0.01460308],[ 0.05444862],[ 0.10764554],.... ,[0.04777292])\n                try:\n                    data\n                except NameError:\n                    data = a\n                else:\n                    if (data.shape[0] != a.shape[0]):\n                        print('skipping ',file_id)\n                        skip = True\n                        continue\n                    data = np.hstack((data, a))\n        if skip:\n            skip = False\n            continue\n        id = np.repeat(file_id, data.shape[0])     #repeat file_id (eg.100) in all rows i.e data.shape[0]\n        id.shape = (id.shape[0], 1)                #create shape of id as a (id, data) i.e (100, 1) for all rows \n        data = np.hstack((id, data))               #horizontally stack to create array of shape -> (100, data[column1], data[column2]))\n        if data.shape[1] == 2:\n            zeros = np.repeat(float(0), data.shape[0])\n            zeros.shape = (data.shape[0], 1)\n            data = np.hstack((data, zeros))\n            print(data.shape)\n        try:\n            result\n        except NameError:\n            result = data\n        else:\n            result = np.vstack((result, data))\n    return result           "
        }, 
        {
            "execution_count": null, 
            "cell_type": "code", 
            "metadata": {}, 
            "outputs": [], 
            "source": "result_healthy = readFolder('./cwr_healthy/')"
        }, 
        {
            "execution_count": null, 
            "cell_type": "code", 
            "metadata": {}, 
            "outputs": [], 
            "source": "print('shape : ',result_healthy.shape)\nprint('length: ',len(result_healthy))\nprint('Sample: ',result_healthy[0])"
        }, 
        {
            "source": "### Create Pandas dataframe", 
            "cell_type": "markdown", 
            "metadata": {}
        }, 
        {
            "execution_count": null, 
            "cell_type": "code", 
            "metadata": {}, 
            "outputs": [], 
            "source": "pdf = pd.DataFrame(result_healthy)"
        }, 
        {
            "execution_count": null, 
            "cell_type": "code", 
            "metadata": {}, 
            "outputs": [], 
            "source": "pdf.to_csv('result_healthy_pandas.csv', header=False, index=True)"
        }, 
        {
            "execution_count": null, 
            "cell_type": "code", 
            "metadata": {}, 
            "outputs": [], 
            "source": "!for url in `curl -s http://csegroups.case.edu/bearingdatacenter/pages/12k-drive-end-bearing-fault-data |grep mat |grep http|awk -F'href=\"' '{print $2}'| awk -F'\">' '{print $1}'`; do wget $url; done\n!for url in `curl -s http://csegroups.case.edu/bearingdatacenter/pages/48k-drive-end-bearing-fault-data |grep mat |grep http|awk -F'href=\"' '{print $2}'| awk -F'\">' '{print $1}'`; do wget $url; done\n!for url in `curl -s http://csegroups.case.edu/bearingdatacenter/pages/12k-fan-end-bearing-fault-data |grep mat |grep http|awk -F'href=\"' '{print $2}'| awk -F'\">' '{print $1}'`; do wget $url; done\n!mkdir cwr_faulty/\n!mv *.mat cwr_faulty/"
        }, 
        {
            "execution_count": 3, 
            "cell_type": "code", 
            "metadata": {}, 
            "outputs": [
                {
                    "output_type": "stream", 
                    "name": "stdout", 
                    "text": "105.mat  135.mat  169.mat  201.mat  234.mat  262.mat  286.mat\t3006.mat\r\n106.mat  136.mat  170.mat  202.mat  235.mat  263.mat  287.mat\t3007.mat\r\n107.mat  137.mat  171.mat  203.mat  236.mat  264.mat  288.mat\t3008.mat\r\n108.mat  138.mat  172.mat  204.mat  237.mat  265.mat  289.mat\t301.mat\r\n109.mat  144.mat  174.mat  209.mat  238.mat  270.mat  290.mat\t302.mat\r\n110.mat  145.mat  175.mat  210.mat  239.mat  271.mat  291.mat\t305.mat\r\n111.mat  146.mat  176.mat  211.mat  240.mat  272.mat  292.mat\t306.mat\r\n112.mat  147.mat  177.mat  212.mat  241.mat  273.mat  293.mat\t307.mat\r\n118.mat  148.mat  185.mat  213.mat  246.mat  274.mat  294.mat\t309.mat\r\n119.mat  149.mat  186.mat  214.mat  247.mat  275.mat  295.mat\t310.mat\r\n120.mat  150.mat  187.mat  215.mat  248.mat  276.mat  296.mat\t311.mat\r\n121.mat  151.mat  188.mat  217.mat  249.mat  277.mat  297.mat\t312.mat\r\n122.mat  156.mat  189.mat  222.mat  250.mat  278.mat  298.mat\t313.mat\r\n123.mat  158.mat  190.mat  223.mat  251.mat  279.mat  299.mat\t315.mat\r\n124.mat  159.mat  191.mat  224.mat  252.mat  280.mat  300.mat\t316.mat\r\n125.mat  160.mat  192.mat  225.mat  253.mat  281.mat  3001.mat\t317.mat\r\n130.mat  161.mat  197.mat  226.mat  258.mat  282.mat  3002.mat\t318.mat\r\n131.mat  162.mat  198.mat  227.mat  259.mat  283.mat  3003.mat\r\n132.mat  163.mat  199.mat  228.mat  260.mat  284.mat  3004.mat\r\n133.mat  164.mat  200.mat  229.mat  261.mat  285.mat  3005.mat\r\n"
                }
            ], 
            "source": "!ls cwr_faulty/"
        }, 
        {
            "execution_count": 4, 
            "cell_type": "code", 
            "metadata": {}, 
            "outputs": [
                {
                    "ename": "NotADirectoryError", 
                    "evalue": "[Errno 20] Not a directory: './cwr_faulty/105.mat'", 
                    "traceback": [
                        "\u001b[0;31m---------------------------------------------------------------------------\u001b[0m", 
                        "\u001b[0;31mNotADirectoryError\u001b[0m                        Traceback (most recent call last)", 
                        "\u001b[0;32m<ipython-input-4-e47425d269f6>\u001b[0m in \u001b[0;36m<module>\u001b[0;34m()\u001b[0m\n\u001b[0;32m----> 1\u001b[0;31m \u001b[0mresult_faulty\u001b[0m \u001b[0;34m=\u001b[0m \u001b[0mreadFolder\u001b[0m\u001b[0;34m(\u001b[0m\u001b[0;34m'./cwr_faulty/105.mat'\u001b[0m\u001b[0;34m)\u001b[0m\u001b[0;34m\u001b[0m\u001b[0m\n\u001b[0m", 
                        "\u001b[0;32m<ipython-input-3-f6ca2b80d7cb>\u001b[0m in \u001b[0;36mreadFolder\u001b[0;34m(folder)\u001b[0m\n\u001b[1;32m      2\u001b[0m     \u001b[0mdata\u001b[0m \u001b[0;34m=\u001b[0m \u001b[0;34m'dummy'\u001b[0m\u001b[0;34m\u001b[0m\u001b[0m\n\u001b[1;32m      3\u001b[0m     \u001b[0mskip\u001b[0m \u001b[0;34m=\u001b[0m \u001b[0;32mFalse\u001b[0m\u001b[0;34m\u001b[0m\u001b[0m\n\u001b[0;32m----> 4\u001b[0;31m     \u001b[0;32mfor\u001b[0m \u001b[0mfile\u001b[0m \u001b[0;32min\u001b[0m \u001b[0mos\u001b[0m\u001b[0;34m.\u001b[0m\u001b[0mlistdir\u001b[0m\u001b[0;34m(\u001b[0m\u001b[0mfolder\u001b[0m\u001b[0;34m)\u001b[0m\u001b[0;34m:\u001b[0m                \u001b[0;31m# ['100.mat', '97.mat', '98.mat', '99.mat']\u001b[0m\u001b[0;34m\u001b[0m\u001b[0m\n\u001b[0m\u001b[1;32m      5\u001b[0m         \u001b[0mfile_id\u001b[0m \u001b[0;34m=\u001b[0m \u001b[0mfile\u001b[0m\u001b[0;34m[\u001b[0m\u001b[0;34m:\u001b[0m\u001b[0;34m-\u001b[0m\u001b[0;36m4\u001b[0m\u001b[0;34m]\u001b[0m                        \u001b[0;31m# iter_1 : 100, iter_2 : 97\u001b[0m\u001b[0;34m\u001b[0m\u001b[0m\n\u001b[1;32m      6\u001b[0m         \u001b[0mmat_file_dict\u001b[0m \u001b[0;34m=\u001b[0m \u001b[0msio\u001b[0m\u001b[0;34m.\u001b[0m\u001b[0mloadmat\u001b[0m\u001b[0;34m(\u001b[0m\u001b[0mfolder\u001b[0m \u001b[0;34m+\u001b[0m \u001b[0mfile\u001b[0m\u001b[0;34m)\u001b[0m \u001b[0;31m# dict{ X100: ...}\u001b[0m\u001b[0;34m\u001b[0m\u001b[0m\n", 
                        "\u001b[0;31mNotADirectoryError\u001b[0m: [Errno 20] Not a directory: './cwr_faulty/105.mat'"
                    ], 
                    "output_type": "error"
                }
            ], 
            "source": "result_faulty = readFolder('./cwr_faulty/')"
        }, 
        {
            "execution_count": null, 
            "cell_type": "code", 
            "metadata": {}, 
            "outputs": [], 
            "source": "pdf = pd.DataFrame(result_faulty)\npdf.to_csv('result_faulty_pandas.csv', header=False, index=True)"
        }, 
        {
            "execution_count": null, 
            "cell_type": "code", 
            "metadata": {}, 
            "outputs": [], 
            "source": ""
        }
    ], 
    "metadata": {
        "kernelspec": {
            "display_name": "Python 3.5 with Spark", 
            "name": "python3", 
            "language": "python3"
        }, 
        "language_info": {
            "mimetype": "text/x-python", 
            "nbconvert_exporter": "python", 
            "version": "3.5.4", 
            "name": "python", 
            "file_extension": ".py", 
            "pygments_lexer": "ipython3", 
            "codemirror_mode": {
                "version": 3, 
                "name": "ipython"
            }
        }
    }, 
    "nbformat": 4
}