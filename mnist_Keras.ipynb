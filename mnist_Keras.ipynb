{
 "cells": [
  {
   "cell_type": "markdown",
   "metadata": {
    "collapsed": true
   },
   "source": [
    "## MNIST dataset in keras"
   ]
  },
  {
   "cell_type": "code",
   "execution_count": 11,
   "metadata": {},
   "outputs": [],
   "source": [
    "from keras.datasets import mnist\n",
    "from keras.utils import to_categorical\n",
    "from keras.models import Sequential\n",
    "from keras.layers import Dense, Dropout"
   ]
  },
  {
   "cell_type": "code",
   "execution_count": 12,
   "metadata": {},
   "outputs": [],
   "source": [
    "batch_size = 128\n",
    "num_classes = 10\n",
    "epochs = 20\n",
    "\n",
    "# load dataset\n",
    "(x_train, y_train), (x_test, y_test) = mnist.load_data()"
   ]
  },
  {
   "cell_type": "markdown",
   "metadata": {},
   "source": [
    "### Data Preprocessing"
   ]
  },
  {
   "cell_type": "code",
   "execution_count": 13,
   "metadata": {},
   "outputs": [
    {
     "name": "stdout",
     "output_type": "stream",
     "text": [
      "(60000, 784) (10000, 784) (60000, 10) (10000, 10)\n"
     ]
    }
   ],
   "source": [
    "x_train = x_train.reshape(60000, 784).astype('float32')\n",
    "x_test = x_test.reshape(10000, 784).astype('float32')\n",
    "\n",
    "x_train /= 255\n",
    "x_test /= 255\n",
    "\n",
    "y_train = to_categorical(y_train, num_classes)\n",
    "y_test = to_categorical(y_test, num_classes)\n",
    "print(x_train.shape, x_test.shape, y_train.shape, y_test.shape)"
   ]
  },
  {
   "cell_type": "markdown",
   "metadata": {},
   "source": [
    "### Defining and Compiling the model"
   ]
  },
  {
   "cell_type": "code",
   "execution_count": 14,
   "metadata": {},
   "outputs": [
    {
     "name": "stdout",
     "output_type": "stream",
     "text": [
      "_________________________________________________________________\n",
      "Layer (type)                 Output Shape              Param #   \n",
      "=================================================================\n",
      "dense_7 (Dense)              (None, 512)               401920    \n",
      "_________________________________________________________________\n",
      "dropout_5 (Dropout)          (None, 512)               0         \n",
      "_________________________________________________________________\n",
      "dense_8 (Dense)              (None, 512)               262656    \n",
      "_________________________________________________________________\n",
      "dropout_6 (Dropout)          (None, 512)               0         \n",
      "_________________________________________________________________\n",
      "dense_9 (Dense)              (None, 10)                5130      \n",
      "=================================================================\n",
      "Total params: 669,706\n",
      "Trainable params: 669,706\n",
      "Non-trainable params: 0\n",
      "_________________________________________________________________\n"
     ]
    }
   ],
   "source": [
    "model = Sequential()\n",
    "\n",
    "model.add(Dense(512, activation='relu', input_shape=(784,)))\n",
    "model.add(Dropout(0.2))   # For regularization\n",
    "model.add(Dense(512, activation='relu'))\n",
    "model.add(Dropout(0.2))\n",
    "model.add(Dense(num_classes, activation='softmax'))\n",
    "\n",
    "model.summary()\n",
    "\n",
    "model.compile(loss='categorical_crossentropy',\n",
    "             optimizer = 'sgd',\n",
    "             metrics=['accuracy'])"
   ]
  },
  {
   "cell_type": "markdown",
   "metadata": {},
   "source": [
    "### Running and evaluating the model"
   ]
  },
  {
   "cell_type": "code",
   "execution_count": 15,
   "metadata": {},
   "outputs": [
    {
     "name": "stdout",
     "output_type": "stream",
     "text": [
      "Train on 60000 samples, validate on 10000 samples\n",
      "Epoch 1/20\n",
      "60000/60000 [==============================] - 9s 151us/step - loss: 1.2075 - acc: 0.6899 - val_loss: 0.5412 - val_acc: 0.8649\n",
      "Epoch 2/20\n",
      "60000/60000 [==============================] - 9s 148us/step - loss: 0.5357 - acc: 0.8474 - val_loss: 0.3787 - val_acc: 0.8960\n",
      "Epoch 3/20\n",
      "60000/60000 [==============================] - 9s 148us/step - loss: 0.4283 - acc: 0.8772 - val_loss: 0.3255 - val_acc: 0.9085\n",
      "Epoch 4/20\n",
      "60000/60000 [==============================] - 9s 150us/step - loss: 0.3775 - acc: 0.8909 - val_loss: 0.2945 - val_acc: 0.9174\n",
      "Epoch 5/20\n",
      "60000/60000 [==============================] - 9s 148us/step - loss: 0.3429 - acc: 0.9009 - val_loss: 0.2743 - val_acc: 0.9228\n",
      "Epoch 6/20\n",
      "60000/60000 [==============================] - 9s 150us/step - loss: 0.3194 - acc: 0.9073 - val_loss: 0.2559 - val_acc: 0.9283\n",
      "Epoch 7/20\n",
      "60000/60000 [==============================] - 9s 148us/step - loss: 0.2996 - acc: 0.9146 - val_loss: 0.2433 - val_acc: 0.9316\n",
      "Epoch 8/20\n",
      "60000/60000 [==============================] - 9s 148us/step - loss: 0.2820 - acc: 0.9188 - val_loss: 0.2292 - val_acc: 0.9348\n",
      "Epoch 9/20\n",
      "60000/60000 [==============================] - 9s 149us/step - loss: 0.2686 - acc: 0.9219 - val_loss: 0.2182 - val_acc: 0.9372\n",
      "Epoch 10/20\n",
      "60000/60000 [==============================] - 9s 148us/step - loss: 0.2536 - acc: 0.9270 - val_loss: 0.2078 - val_acc: 0.9400\n",
      "Epoch 11/20\n",
      "60000/60000 [==============================] - 9s 153us/step - loss: 0.2441 - acc: 0.9294 - val_loss: 0.1993 - val_acc: 0.9418\n",
      "Epoch 12/20\n",
      "60000/60000 [==============================] - 9s 150us/step - loss: 0.2322 - acc: 0.9325 - val_loss: 0.1920 - val_acc: 0.9443\n",
      "Epoch 13/20\n",
      "60000/60000 [==============================] - 9s 148us/step - loss: 0.2233 - acc: 0.9358 - val_loss: 0.1842 - val_acc: 0.9457\n",
      "Epoch 14/20\n",
      "60000/60000 [==============================] - 9s 150us/step - loss: 0.2147 - acc: 0.9379 - val_loss: 0.1775 - val_acc: 0.9479\n",
      "Epoch 15/20\n",
      "60000/60000 [==============================] - 9s 150us/step - loss: 0.2043 - acc: 0.9408 - val_loss: 0.1713 - val_acc: 0.9502\n",
      "Epoch 16/20\n",
      "60000/60000 [==============================] - 9s 152us/step - loss: 0.1991 - acc: 0.9428 - val_loss: 0.1654 - val_acc: 0.9516\n",
      "Epoch 17/20\n",
      "60000/60000 [==============================] - 9s 151us/step - loss: 0.1925 - acc: 0.9443 - val_loss: 0.1603 - val_acc: 0.9527\n",
      "Epoch 18/20\n",
      "60000/60000 [==============================] - 9s 149us/step - loss: 0.1861 - acc: 0.9469 - val_loss: 0.1561 - val_acc: 0.9540\n",
      "Epoch 19/20\n",
      "60000/60000 [==============================] - 9s 147us/step - loss: 0.1810 - acc: 0.9475 - val_loss: 0.1504 - val_acc: 0.9563\n",
      "Epoch 20/20\n",
      "60000/60000 [==============================] - 9s 148us/step - loss: 0.1735 - acc: 0.9504 - val_loss: 0.1470 - val_acc: 0.9570\n",
      "Test loss: 0.146973615045\n",
      "Test accuracy: 0.957\n"
     ]
    }
   ],
   "source": [
    "model.fit(x_train, y_train, batch_size=batch_size, epochs=epochs, validation_data=(x_test, y_test))\n",
    "score = model.evaluate(x_test, y_test, verbose=0)\n",
    "print(\"Test loss:\", score[0])\n",
    "print(\"Test accuracy:\", score[1])"
   ]
  },
  {
   "cell_type": "code",
   "execution_count": null,
   "metadata": {},
   "outputs": [],
   "source": []
  }
 ],
 "metadata": {
  "kernelspec": {
   "display_name": "Python 3.5 with Spark",
   "language": "python3",
   "name": "python3"
  },
  "language_info": {
   "codemirror_mode": {
    "name": "ipython",
    "version": 3
   },
   "file_extension": ".py",
   "mimetype": "text/x-python",
   "name": "python",
   "nbconvert_exporter": "python",
   "pygments_lexer": "ipython3",
   "version": "3.5.4"
  }
 },
 "nbformat": 4,
 "nbformat_minor": 1
}
