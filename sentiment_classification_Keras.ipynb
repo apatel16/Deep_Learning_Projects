{
    "nbformat_minor": 1, 
    "cells": [
        {
            "source": "# Sentiment classification for movie reviews using keras model", 
            "cell_type": "markdown", 
            "metadata": {
                "collapsed": true
            }
        }, 
        {
            "execution_count": 2, 
            "cell_type": "code", 
            "metadata": {}, 
            "outputs": [], 
            "source": "from keras.preprocessing import sequence\nfrom keras.models import Sequential\nfrom keras.layers import LSTM\nfrom keras.layers import Dense, Embedding\nfrom keras.datasets import imdb"
        }, 
        {
            "execution_count": 4, 
            "cell_type": "code", 
            "metadata": {}, 
            "outputs": [], 
            "source": "max_features = 20000\nmaxlen = 80"
        }, 
        {
            "execution_count": 5, 
            "cell_type": "code", 
            "metadata": {}, 
            "outputs": [
                {
                    "output_type": "stream", 
                    "name": "stdout", 
                    "text": "Downloading data from https://s3.amazonaws.com/text-datasets/imdb.npz\n17326080/17464789 [============================>.] - ETA: 0s"
                }
            ], 
            "source": "(x_train, y_train), (x_test, y_test) = imdb.load_data(num_words=max_features)"
        }, 
        {
            "execution_count": 6, 
            "cell_type": "code", 
            "metadata": {}, 
            "outputs": [], 
            "source": "x_train = sequence.pad_sequences(x_train, maxlen=maxlen)\nx_test = sequence.pad_sequences(x_test, maxlen=maxlen)"
        }, 
        {
            "source": "### Model definition", 
            "cell_type": "markdown", 
            "metadata": {}
        }, 
        {
            "execution_count": 7, 
            "cell_type": "code", 
            "metadata": {}, 
            "outputs": [], 
            "source": "model = Sequential()\nmodel.add(Embedding(max_features, 128))\nmodel.add(LSTM(128, dropout=0.2, recurrent_dropout=0.2))\nmodel.add(Dense(1, activation='sigmoid'))"
        }, 
        {
            "source": "### Run and Evaluate model", 
            "cell_type": "markdown", 
            "metadata": {}
        }, 
        {
            "execution_count": 8, 
            "cell_type": "code", 
            "metadata": {}, 
            "outputs": [
                {
                    "output_type": "stream", 
                    "name": "stdout", 
                    "text": "Train on 25000 samples, validate on 25000 samples\nEpoch 1/15\n25000/25000 [==============================] - 130s - loss: 0.6931 - acc: 0.5054 - val_loss: 0.6930 - val_acc: 0.5156\nEpoch 2/15\n25000/25000 [==============================] - 129s - loss: 0.6929 - acc: 0.5138 - val_loss: 0.6927 - val_acc: 0.5314\nEpoch 3/15\n25000/25000 [==============================] - 130s - loss: 0.6927 - acc: 0.5213 - val_loss: 0.6925 - val_acc: 0.5336\nEpoch 4/15\n25000/25000 [==============================] - 129s - loss: 0.6924 - acc: 0.5242 - val_loss: 0.6923 - val_acc: 0.5479\nEpoch 5/15\n25000/25000 [==============================] - 130s - loss: 0.6921 - acc: 0.5305 - val_loss: 0.6922 - val_acc: 0.5020\nEpoch 6/15\n25000/25000 [==============================] - 129s - loss: 0.6919 - acc: 0.5455 - val_loss: 0.6918 - val_acc: 0.5704\nEpoch 7/15\n25000/25000 [==============================] - 129s - loss: 0.6915 - acc: 0.5600 - val_loss: 0.6915 - val_acc: 0.5562\nEpoch 8/15\n25000/25000 [==============================] - 129s - loss: 0.6911 - acc: 0.5450 - val_loss: 0.6911 - val_acc: 0.5526\nEpoch 9/15\n25000/25000 [==============================] - 129s - loss: 0.6908 - acc: 0.5562 - val_loss: 0.6906 - val_acc: 0.5834\nEpoch 10/15\n25000/25000 [==============================] - 129s - loss: 0.6902 - acc: 0.5691 - val_loss: 0.6902 - val_acc: 0.5506\nEpoch 11/15\n25000/25000 [==============================] - 129s - loss: 0.6896 - acc: 0.5786 - val_loss: 0.6895 - val_acc: 0.5708\nEpoch 12/15\n25000/25000 [==============================] - 128s - loss: 0.6888 - acc: 0.5782 - val_loss: 0.6887 - val_acc: 0.5595\nEpoch 13/15\n25000/25000 [==============================] - 130s - loss: 0.6877 - acc: 0.5890 - val_loss: 0.6875 - val_acc: 0.5938\nEpoch 14/15\n25000/25000 [==============================] - 130s - loss: 0.6864 - acc: 0.5967 - val_loss: 0.6860 - val_acc: 0.5970\nEpoch 15/15\n25000/25000 [==============================] - 128s - loss: 0.6842 - acc: 0.6019 - val_loss: 0.6834 - val_acc: 0.6054\n24960/25000 [============================>.] - ETA: 0s"
                }, 
                {
                    "execution_count": 8, 
                    "metadata": {}, 
                    "data": {
                        "text/plain": "[0.68340885047912603, 0.60540000000000005]"
                    }, 
                    "output_type": "execute_result"
                }
            ], 
            "source": "model.compile(loss='binary_crossentropy',\n             optimizer='sgd',\n             metrics=['accuracy'])\nmodel.fit(x_train, y_train, batch_size=32, epochs=15, validation_data=(x_test, y_test))\nmodel.evaluate(x_test, y_test, batch_size=32)"
        }, 
        {
            "execution_count": null, 
            "cell_type": "code", 
            "metadata": {}, 
            "outputs": [], 
            "source": ""
        }
    ], 
    "metadata": {
        "kernelspec": {
            "display_name": "Python 3.5 with Spark 2.1", 
            "name": "python3-spark21", 
            "language": "python"
        }, 
        "language_info": {
            "mimetype": "text/x-python", 
            "nbconvert_exporter": "python", 
            "version": "3.5.4", 
            "name": "python", 
            "file_extension": ".py", 
            "pygments_lexer": "ipython3", 
            "codemirror_mode": {
                "version": 3, 
                "name": "ipython"
            }
        }
    }, 
    "nbformat": 4
}
